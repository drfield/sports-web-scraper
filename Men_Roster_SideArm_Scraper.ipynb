{
 "cells": [
  {
   "cell_type": "markdown",
   "metadata": {},
   "source": [
    "# Web Scraper for Roster Data from SideArm sites\n",
    "\n",
    "### Import Beautiful Soup Library and Parser"
   ]
  },
  {
   "cell_type": "code",
   "execution_count": null,
   "metadata": {},
   "outputs": [],
   "source": [
    "from bs4 import BeautifulSoup\n",
    "\n",
    "import urllib\n",
    "import urllib.request\n",
    "import re\n",
    "\n",
    "import pandas as pd \n",
    "\n",
    "from pandas import Series, DataFrame"
   ]
  },
  {
   "cell_type": "markdown",
   "metadata": {},
   "source": [
    "### Read in URL"
   ]
  },
  {
   "cell_type": "code",
   "execution_count": null,
   "metadata": {},
   "outputs": [],
   "source": [
    "r = urllib.request.urlopen('https://goheels.com/sports/mens-lacrosse/roster').read()"
   ]
  },
  {
   "cell_type": "markdown",
   "metadata": {},
   "source": [
    "### Check that it's reading the type properly"
   ]
  },
  {
   "cell_type": "code",
   "execution_count": null,
   "metadata": {},
   "outputs": [],
   "source": [
    "soup = BeautifulSoup(r, 'lxml')\n",
    "type(soup)"
   ]
  },
  {
   "cell_type": "markdown",
   "metadata": {},
   "source": [
    "### Get Player Jersey and add to DataFrame"
   ]
  },
  {
   "cell_type": "code",
   "execution_count": null,
   "metadata": {
    "scrolled": true
   },
   "outputs": [],
   "source": [
    "# Create an empty list to contain scraped data\n",
    "jersey_numbers = []\n",
    "\n",
    "# Parse to specific tag and get ResultSet\n",
    "jersey_number = soup.find_all('td', attrs=['class','roster_jerseynum'])\n",
    "\n",
    "# Iterate through ResultSet, strip the text of '\\n' and put in the empty list above\n",
    "for jersey in jersey_number:\n",
    "    jersey_numbers.append(jersey.text.replace('\\n', ' ').strip())\n",
    "\n",
    "# Print the new list to varify the contents    \n",
    "print(jersey_numbers)"
   ]
  },
  {
   "cell_type": "markdown",
   "metadata": {},
   "source": [
    "### Get Player Last Name"
   ]
  },
  {
   "cell_type": "code",
   "execution_count": null,
   "metadata": {},
   "outputs": [],
   "source": [
    "# Create an empty list to contain scraped data\n",
    "last_names = []\n",
    "\n",
    "# Parse to specific tag and get ResultSet\n",
    "last_name = soup.find_all('span', attrs=['class','sidearm-roster-player-last-name'])\n",
    "\n",
    "# Iterate through ResultSet, strip the text of '\\n' and put in the empty list above\n",
    "for name in last_name:\n",
    "       last_names.append(name.text.replace('\\n', ' ').strip())\n",
    "\n",
    "# Print the new list to varify the contents    \n",
    "print(last_names)"
   ]
  },
  {
   "cell_type": "markdown",
   "metadata": {},
   "source": [
    "### Get Player First Name"
   ]
  },
  {
   "cell_type": "code",
   "execution_count": null,
   "metadata": {},
   "outputs": [],
   "source": [
    "# Create an empty list to contain scraped data\n",
    "first_names = []\n",
    "\n",
    "# Parse to specific tag and get ResultSet\n",
    "first_name = soup.find_all('span', attrs=['class','sidearm-roster-player-first-name'])\n",
    "\n",
    "# Iterate through ResultSet, strip the text of '\\n' and put in the empty list above\n",
    "for name in first_name:\n",
    "       first_names.append(name.text.replace('\\n', ' ').strip())\n",
    "    \n",
    "# Print the new list to varify the contents    \n",
    "print(first_names)"
   ]
  },
  {
   "cell_type": "markdown",
   "metadata": {},
   "source": [
    "### Get Player Height"
   ]
  },
  {
   "cell_type": "code",
   "execution_count": null,
   "metadata": {},
   "outputs": [],
   "source": [
    "heights = []\n",
    "\n",
    "player_height = soup.find_all('span', attrs=['class','sidearm-roster-player-height'])\n",
    "\n",
    "for height in player_height:\n",
    "       heights.append(height.text.replace('\\n', '').strip())\n",
    "\n",
    "print(heights)"
   ]
  },
  {
   "cell_type": "markdown",
   "metadata": {},
   "source": [
    "### Get Player Weight and strip whitespace and \"lbs\""
   ]
  },
  {
   "cell_type": "code",
   "execution_count": null,
   "metadata": {},
   "outputs": [],
   "source": [
    "weights = []\n",
    "\n",
    "player_weight = soup.find_all('td', attrs=['class','rp_weight'])\n",
    "\n",
    "for weight in player_weight:\n",
    "       weights.append(weight.text.replace('\\n', ' ').strip())\n",
    "\n",
    "print(weights)"
   ]
  },
  {
   "cell_type": "markdown",
   "metadata": {},
   "source": [
    "### Get Player Year"
   ]
  },
  {
   "cell_type": "code",
   "execution_count": null,
   "metadata": {},
   "outputs": [],
   "source": [
    "years = []\n",
    "\n",
    "player_year = soup.find_all('td', attrs=['class','roster_class'])\n",
    "\n",
    "for year in player_year:\n",
    "       years.append(year.text.replace('\\n', ' ').strip())\n",
    "        \n",
    "class_abbrv = [word.replace('Fr.', 'FR').replace('Sr.', 'SR').replace('Jr.', 'JR').replace('So.', 'SO') for word in years]\n",
    "   \n",
    "print(class_abbrv)"
   ]
  },
  {
   "cell_type": "markdown",
   "metadata": {},
   "source": [
    "### Get Player Hometown and State"
   ]
  },
  {
   "cell_type": "code",
   "execution_count": null,
   "metadata": {},
   "outputs": [],
   "source": [
    "hometowns = []\n",
    "\n",
    "player_hometown = soup.find_all('td', attrs=['class','hometownhighschool'])\n",
    "\n",
    "for hometown in player_hometown:\n",
    "    hometowns.append(hometown.text.replace('\\n', ' ').strip())\n",
    "\n",
    "print(hometowns)"
   ]
  },
  {
   "cell_type": "markdown",
   "metadata": {},
   "source": [
    "### Get Player Position"
   ]
  },
  {
   "cell_type": "code",
   "execution_count": null,
   "metadata": {},
   "outputs": [],
   "source": [
    "positions = []\n",
    "player_position = soup.find_all('td', attrs=['class','rp_position_short'])\n",
    "for pos in player_position:\n",
    "    positions.append(pos.text.replace('\\n', ' ').strip())\n",
    "    \n",
    "print(positions)"
   ]
  },
  {
   "cell_type": "markdown",
   "metadata": {},
   "source": [
    "### Create a DataFrame with pandas, combine lists you want and label the columns"
   ]
  },
  {
   "cell_type": "code",
   "execution_count": null,
   "metadata": {},
   "outputs": [],
   "source": [
    "df = pd.DataFrame(list(zip(jersey_numbers, last_names, first_names, positions, heights, weights, class_abbrv, hometowns)), \n",
    "               columns =['Jersey No.', 'Last','First', 'POS', 'Height', 'Weight', 'Year', 'Hometown'])\n",
    "\n",
    "df"
   ]
  },
  {
   "cell_type": "markdown",
   "metadata": {},
   "source": [
    "### Create new pandas DataFrames to split columns containing 2 elements into seperate columns and append to the orignal DataFrame"
   ]
  },
  {
   "cell_type": "code",
   "execution_count": null,
   "metadata": {
    "scrolled": true
   },
   "outputs": [],
   "source": [
    "tmp_df = df[\"Hometown\"].str.split(\",\", n=1, expand=True)\n",
    "df[\"Town\"]= tmp_df[0]\n",
    "df[\"State\"]= tmp_df[1]\n",
    "\n",
    "tmp_df2 = df[\"State\"].str.split(\" /\", expand=True)\n",
    "df[\"State\"] = tmp_df2[0]\n",
    "df[\"Highschool\"] = tmp_df2[1]\n",
    "\n",
    "df"
   ]
  },
  {
   "cell_type": "markdown",
   "metadata": {},
   "source": [
    "### Create a new DataFrame for exporting. Drop unnecessary columns. Rearrange the new DataFrame "
   ]
  },
  {
   "cell_type": "code",
   "execution_count": null,
   "metadata": {},
   "outputs": [],
   "source": [
    "# Drop the 'Hometown' and 'Highschool' columns from the Dataframe\n",
    "new_df = df.drop([\"Hometown\",\"Highschool\"], axis=1)\n",
    "\n",
    "# Rearrange Dataframe column order if necessary\n",
    "new_df = new_df[['Jersey No.', 'First', 'Last', 'POS', 'Year', 'Height', 'Weight', 'Town', 'State']]\n",
    "\n",
    "new_df"
   ]
  },
  {
   "cell_type": "markdown",
   "metadata": {},
   "source": [
    "# Export the DataFrame.\n",
    "## Double check the export path and name before running"
   ]
  },
  {
   "cell_type": "code",
   "execution_count": null,
   "metadata": {},
   "outputs": [],
   "source": [
    "new_df.to_csv(r'D:\\From_HOME\\UNC_MLAX_Roster_Test.csv',na_rep='Unknown')"
   ]
  }
 ],
 "metadata": {
  "kernelspec": {
   "display_name": "Python 3",
   "language": "python",
   "name": "python3"
  },
  "language_info": {
   "codemirror_mode": {
    "name": "ipython",
    "version": 3
   },
   "file_extension": ".py",
   "mimetype": "text/x-python",
   "name": "python",
   "nbconvert_exporter": "python",
   "pygments_lexer": "ipython3",
   "version": "3.7.7"
  }
 },
 "nbformat": 4,
 "nbformat_minor": 4
}
