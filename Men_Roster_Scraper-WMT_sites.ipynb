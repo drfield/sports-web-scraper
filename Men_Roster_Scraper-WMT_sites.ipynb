{
 "cells": [
  {
   "cell_type": "markdown",
   "metadata": {},
   "source": [
    "# Web Scraper Roster Data - WMT websites\n",
    "\n",
    "### Import Beautiful Soup Library and Parser"
   ]
  },
  {
   "cell_type": "code",
   "execution_count": null,
   "metadata": {},
   "outputs": [],
   "source": [
    "from bs4 import BeautifulSoup\n",
    "\n",
    "from lxml import html\n",
    "\n",
    "import requests\n",
    "import re\n",
    "\n",
    "import pandas as pd \n",
    "\n",
    "from pandas import Series, DataFrame"
   ]
  },
  {
   "cell_type": "markdown",
   "metadata": {},
   "source": [
    "### Read in URL, parse the data and check that it's reading the type properly"
   ]
  },
  {
   "cell_type": "code",
   "execution_count": null,
   "metadata": {},
   "outputs": [],
   "source": [
    "url = 'https://clemsontigers.com/sports/mens-soccer/roster/'\n",
    "\n",
    "page = requests.get(url)\n",
    "soup = BeautifulSoup(page.text, 'html.parser')\n",
    "\n",
    "type(soup)"
   ]
  },
  {
   "cell_type": "markdown",
   "metadata": {},
   "source": [
    "### Parse inside the 'tbody' tag so we can iterate through it to scrape the roster data"
   ]
  },
  {
   "cell_type": "code",
   "execution_count": null,
   "metadata": {},
   "outputs": [],
   "source": [
    "team_roster = soup.find('tbody').find_all('tr')\n",
    "\n",
    "#print(team_roster)\n",
    "\n",
    "#type(team_roster)"
   ]
  },
  {
   "cell_type": "markdown",
   "metadata": {},
   "source": [
    "### Get each player's jersey number and and put in a list for later use"
   ]
  },
  {
   "cell_type": "code",
   "execution_count": null,
   "metadata": {},
   "outputs": [],
   "source": [
    "jersey_numbers = []\n",
    "\n",
    "for row in team_roster:\n",
    "    cells = row.find_all('td')\n",
    "    col_1 = cells[0].get_text()\n",
    "    jersey_numbers.append(col_1)\n",
    "\n",
    "print(jersey_numbers)"
   ]
  },
  {
   "cell_type": "markdown",
   "metadata": {},
   "source": [
    "### Get each player's full name and and put in a list for latter use"
   ]
  },
  {
   "cell_type": "code",
   "execution_count": null,
   "metadata": {},
   "outputs": [],
   "source": [
    "names = []\n",
    "\n",
    "for row in team_roster:\n",
    "    cells = row.find_all('td')\n",
    "    col_2 = cells[1].get_text()\n",
    "    names.append(col_2)\n",
    "    \n",
    "print(names)    "
   ]
  },
  {
   "cell_type": "markdown",
   "metadata": {},
   "source": [
    "### Get each player's position and and put in a list for latter use"
   ]
  },
  {
   "cell_type": "code",
   "execution_count": null,
   "metadata": {},
   "outputs": [],
   "source": [
    "positions = []\n",
    "\n",
    "for row in team_roster:\n",
    "    cells = row.find_all('td')\n",
    "    col_3 = cells[2].get_text()\n",
    "    positions.append(col_3)\n",
    "    \n",
    "print(positions)   "
   ]
  },
  {
   "cell_type": "markdown",
   "metadata": {},
   "source": [
    "### If height is listed as ft-in this with get each player's height, convert it to ft'in\" and put in a list for latter use"
   ]
  },
  {
   "cell_type": "code",
   "execution_count": null,
   "metadata": {},
   "outputs": [],
   "source": [
    "heights = []\n",
    "\n",
    "for row in team_roster:\n",
    "    cells = row.find_all('td')\n",
    "    col_4 = cells[3].get_text()\n",
    "    heights.append(col_4)\n",
    "    \n",
    "heights_ft = [word.replace('-', '\\'') for word in heights]\n",
    "\n",
    "heights_converted = [word + '\\\"' for word in heights_ft]\n",
    "#print(heights)\n",
    "#print(height_ft)\n",
    "print(heights_converted)"
   ]
  },
  {
   "cell_type": "markdown",
   "metadata": {},
   "source": [
    "### If height is listed as ft'in\" this with get each player's height and put in a list for latter use"
   ]
  },
  {
   "cell_type": "code",
   "execution_count": null,
   "metadata": {},
   "outputs": [],
   "source": [
    "heights = []\n",
    "\n",
    "for row in team_roster:\n",
    "    cells = row.find_all('td')\n",
    "    col_4 = cells[3].get_text()\n",
    "    heights.append(col_4)\n",
    "    \n",
    "print(heights)"
   ]
  },
  {
   "cell_type": "code",
   "execution_count": null,
   "metadata": {},
   "outputs": [],
   "source": []
  },
  {
   "cell_type": "markdown",
   "metadata": {},
   "source": [
    "### Gets player's weight and puts it in a list for later use"
   ]
  },
  {
   "cell_type": "code",
   "execution_count": null,
   "metadata": {},
   "outputs": [],
   "source": [
    "weights = []\n",
    "\n",
    "for row in team_roster:\n",
    "    cells = row.find_all('td')\n",
    "    col_5 = cells[4].get_text()\n",
    "    weights.append(col_5)\n",
    "    \n",
    "print(weights)  "
   ]
  },
  {
   "cell_type": "markdown",
   "metadata": {},
   "source": [
    "### If player's class year is only an abbreviation this gets the abbreviation, cleans it up and puts it in a list for later"
   ]
  },
  {
   "cell_type": "code",
   "execution_count": null,
   "metadata": {},
   "outputs": [],
   "source": [
    "years = []\n",
    "\n",
    "for row in team_roster:\n",
    "    cells = row.find_all('td')\n",
    "    col_6 = cells[5].get_text()\n",
    "    years.append(col_6)\n",
    "    \n",
    "class_abbrv = [word.replace('Fr.', 'FR').replace('Sr.', 'SR').replace('Jr.', 'JR').replace('So.', 'SO').replace('Gr.', 'GR') for word in years]\n",
    "\n",
    "clean_class_abbrv = [word.replace('*', '') for word in class_abbrv]\n",
    "\n",
    "#print(years)\n",
    "#print(class_abbrv)\n",
    "print(clean_class_abbrv)"
   ]
  },
  {
   "cell_type": "markdown",
   "metadata": {},
   "source": [
    "### If player's class year is NOT an abbreviation this gets the class year, converts it an abbreviation, cleans it up and puts it in a list for later"
   ]
  },
  {
   "cell_type": "code",
   "execution_count": null,
   "metadata": {},
   "outputs": [],
   "source": [
    "full_years = []\n",
    "\n",
    "for row in team_roster:\n",
    "    cells = row.find_all('td')\n",
    "    col_6 = cells[5].get_text()\n",
    "    full_years.append(col_6)\n",
    "\n",
    "# Converts the full length word to an abbreviation\n",
    "class_abbrv = [word.replace('Freshman', 'FR').replace('Senior', 'SR').replace('Junior', 'JR').replace('Sophomore', 'SO').replace('Graduate', 'GR') for word in full_years]\n",
    "\n",
    "# Removes 'RS' from class year. Comment out the line below to leave 'RS'\n",
    "# new_class_abbrv = [word.replace('RS ', '') for word in class_abbrv]\n",
    "new_class_abbrv = [word.replace('Redshirt ', '') for word in class_abbrv]\n",
    "clean_class_abbrv = [word.replace('Redshirt-', '') for word in new_class_abbrv]\n",
    "\n",
    "#print(full_years)\n",
    "#print(new_class_abbrv)\n",
    "print(clean_class_abbrv)\n"
   ]
  },
  {
   "cell_type": "markdown",
   "metadata": {},
   "source": [
    "### Get player's hometown and add it to a list for later use"
   ]
  },
  {
   "cell_type": "code",
   "execution_count": null,
   "metadata": {},
   "outputs": [],
   "source": [
    "hometowns = []\n",
    "\n",
    "for row in team_roster:\n",
    "    cells = row.find_all('td')\n",
    "    col_7 = cells[6].get_text()\n",
    "    hometowns.append(col_7)\n",
    "    \n",
    "print(hometowns)"
   ]
  },
  {
   "cell_type": "markdown",
   "metadata": {},
   "source": [
    "### Create a DataFrame with pandas, combine lists you want and label the columns"
   ]
  },
  {
   "cell_type": "code",
   "execution_count": null,
   "metadata": {},
   "outputs": [],
   "source": [
    "df = pd.DataFrame(list(zip(jersey_numbers, names, positions, clean_class_abbrv, heights, weights, hometowns)), \n",
    "               columns =['Jersey No.', 'Name', 'POS', 'Class', 'Height', 'Weight', 'Hometown'])\n",
    "\n",
    "df"
   ]
  },
  {
   "cell_type": "markdown",
   "metadata": {},
   "source": [
    "### Create new pandas DataFrames to split columns containing 2 elements into seperate columns and append to the orignal DataFrame"
   ]
  },
  {
   "cell_type": "code",
   "execution_count": null,
   "metadata": {
    "scrolled": true
   },
   "outputs": [],
   "source": [
    "tmp_df = df[\"Hometown\"].str.split(\",\", n=1, expand=True)\n",
    "df[\"Town\"]= tmp_df[0]\n",
    "df[\"State\"]= tmp_df[1]\n",
    "\n",
    "#tmp_df2 = df[\"State\"].str.split(\" /\", expand=True)\n",
    "#df[\"State\"] = tmp_df2[0]\n",
    "#df[\"Highschool\"] = tmp_df2[1]\n",
    "\n",
    "tmp_df3 = df[\"Name\"].str.split(\" \", n=1, expand=True)\n",
    "df[\"First Name\"]= tmp_df3[0]\n",
    "df[\"Last Name\"]= tmp_df3[1]\n",
    "\n",
    "df"
   ]
  },
  {
   "cell_type": "markdown",
   "metadata": {},
   "source": [
    "### Create a new DataFrame for exporting. Drop unnecessary columns. Rearrange the new DataFrame "
   ]
  },
  {
   "cell_type": "code",
   "execution_count": null,
   "metadata": {},
   "outputs": [],
   "source": [
    "# Drop the 'Hometown' and 'Name' columns from the Dataframe\n",
    "new_df = df.drop([\"Hometown\",\"Name\"], axis=1)\n",
    "\n",
    "# Rearrange Dataframe column order\n",
    "new_df = new_df[['Jersey No.', 'First Name', 'Last Name', 'POS', 'Class', 'Height', 'Weight', 'Town', 'State']]\n",
    "\n",
    "# Display new Dataframe\n",
    "new_df"
   ]
  },
  {
   "cell_type": "markdown",
   "metadata": {},
   "source": [
    "# Export the DataFrame.\n",
    "## Double check the export path and name before running"
   ]
  },
  {
   "cell_type": "code",
   "execution_count": null,
   "metadata": {},
   "outputs": [],
   "source": [
    "new_df.to_csv('D:\\From_HOME\\CLEM_MSOC_Roster.csv',na_rep='Unknown')"
   ]
  }
 ],
 "metadata": {
  "kernelspec": {
   "display_name": "Python 3",
   "language": "python",
   "name": "python3"
  },
  "language_info": {
   "codemirror_mode": {
    "name": "ipython",
    "version": 3
   },
   "file_extension": ".py",
   "mimetype": "text/x-python",
   "name": "python",
   "nbconvert_exporter": "python",
   "pygments_lexer": "ipython3",
   "version": "3.7.7"
  }
 },
 "nbformat": 4,
 "nbformat_minor": 4
}
